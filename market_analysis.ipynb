{
 "cells": [
  {
   "cell_type": "code",
   "execution_count": 52,
   "metadata": {},
   "outputs": [],
   "source": [
    "import pandas as pd\n",
    "import numpy as np\n",
    "import matplotlib.pyplot as plt\n",
    "import seaborn as sns"
   ]
  },
  {
   "cell_type": "code",
   "execution_count": 175,
   "metadata": {},
   "outputs": [
    {
     "data": {
      "text/html": [
       "<div>\n",
       "<style scoped>\n",
       "    .dataframe tbody tr th:only-of-type {\n",
       "        vertical-align: middle;\n",
       "    }\n",
       "\n",
       "    .dataframe tbody tr th {\n",
       "        vertical-align: top;\n",
       "    }\n",
       "\n",
       "    .dataframe thead th {\n",
       "        text-align: right;\n",
       "    }\n",
       "</style>\n",
       "<table border=\"1\" class=\"dataframe\">\n",
       "  <thead>\n",
       "    <tr style=\"text-align: right;\">\n",
       "      <th></th>\n",
       "      <th>Ship Mode</th>\n",
       "      <th>Segment</th>\n",
       "      <th>Country</th>\n",
       "      <th>City</th>\n",
       "      <th>State</th>\n",
       "      <th>Postal Code</th>\n",
       "      <th>Region</th>\n",
       "      <th>Category</th>\n",
       "      <th>Sub-Category</th>\n",
       "      <th>Sales</th>\n",
       "      <th>Quantity</th>\n",
       "      <th>Discount</th>\n",
       "      <th>Profit</th>\n",
       "    </tr>\n",
       "  </thead>\n",
       "  <tbody>\n",
       "    <tr>\n",
       "      <th>0</th>\n",
       "      <td>Second Class</td>\n",
       "      <td>Consumer</td>\n",
       "      <td>United States</td>\n",
       "      <td>Henderson</td>\n",
       "      <td>Kentucky</td>\n",
       "      <td>42420</td>\n",
       "      <td>South</td>\n",
       "      <td>Furniture</td>\n",
       "      <td>Bookcases</td>\n",
       "      <td>261.9600</td>\n",
       "      <td>2</td>\n",
       "      <td>0.00</td>\n",
       "      <td>41.9136</td>\n",
       "    </tr>\n",
       "    <tr>\n",
       "      <th>1</th>\n",
       "      <td>Second Class</td>\n",
       "      <td>Consumer</td>\n",
       "      <td>United States</td>\n",
       "      <td>Henderson</td>\n",
       "      <td>Kentucky</td>\n",
       "      <td>42420</td>\n",
       "      <td>South</td>\n",
       "      <td>Furniture</td>\n",
       "      <td>Chairs</td>\n",
       "      <td>731.9400</td>\n",
       "      <td>3</td>\n",
       "      <td>0.00</td>\n",
       "      <td>219.5820</td>\n",
       "    </tr>\n",
       "    <tr>\n",
       "      <th>2</th>\n",
       "      <td>Second Class</td>\n",
       "      <td>Corporate</td>\n",
       "      <td>United States</td>\n",
       "      <td>Los Angeles</td>\n",
       "      <td>California</td>\n",
       "      <td>90036</td>\n",
       "      <td>West</td>\n",
       "      <td>Office Supplies</td>\n",
       "      <td>Labels</td>\n",
       "      <td>14.6200</td>\n",
       "      <td>2</td>\n",
       "      <td>0.00</td>\n",
       "      <td>6.8714</td>\n",
       "    </tr>\n",
       "    <tr>\n",
       "      <th>3</th>\n",
       "      <td>Standard Class</td>\n",
       "      <td>Consumer</td>\n",
       "      <td>United States</td>\n",
       "      <td>Fort Lauderdale</td>\n",
       "      <td>Florida</td>\n",
       "      <td>33311</td>\n",
       "      <td>South</td>\n",
       "      <td>Furniture</td>\n",
       "      <td>Tables</td>\n",
       "      <td>957.5775</td>\n",
       "      <td>5</td>\n",
       "      <td>0.45</td>\n",
       "      <td>-383.0310</td>\n",
       "    </tr>\n",
       "    <tr>\n",
       "      <th>4</th>\n",
       "      <td>Standard Class</td>\n",
       "      <td>Consumer</td>\n",
       "      <td>United States</td>\n",
       "      <td>Fort Lauderdale</td>\n",
       "      <td>Florida</td>\n",
       "      <td>33311</td>\n",
       "      <td>South</td>\n",
       "      <td>Office Supplies</td>\n",
       "      <td>Storage</td>\n",
       "      <td>22.3680</td>\n",
       "      <td>2</td>\n",
       "      <td>0.20</td>\n",
       "      <td>2.5164</td>\n",
       "    </tr>\n",
       "    <tr>\n",
       "      <th>...</th>\n",
       "      <td>...</td>\n",
       "      <td>...</td>\n",
       "      <td>...</td>\n",
       "      <td>...</td>\n",
       "      <td>...</td>\n",
       "      <td>...</td>\n",
       "      <td>...</td>\n",
       "      <td>...</td>\n",
       "      <td>...</td>\n",
       "      <td>...</td>\n",
       "      <td>...</td>\n",
       "      <td>...</td>\n",
       "      <td>...</td>\n",
       "    </tr>\n",
       "    <tr>\n",
       "      <th>95</th>\n",
       "      <td>Standard Class</td>\n",
       "      <td>Home Office</td>\n",
       "      <td>United States</td>\n",
       "      <td>Portland</td>\n",
       "      <td>Oregon</td>\n",
       "      <td>97206</td>\n",
       "      <td>West</td>\n",
       "      <td>Office Supplies</td>\n",
       "      <td>Binders</td>\n",
       "      <td>5.6820</td>\n",
       "      <td>1</td>\n",
       "      <td>0.70</td>\n",
       "      <td>-3.7880</td>\n",
       "    </tr>\n",
       "    <tr>\n",
       "      <th>96</th>\n",
       "      <td>Second Class</td>\n",
       "      <td>Home Office</td>\n",
       "      <td>United States</td>\n",
       "      <td>New York City</td>\n",
       "      <td>New York</td>\n",
       "      <td>10009</td>\n",
       "      <td>East</td>\n",
       "      <td>Furniture</td>\n",
       "      <td>Furnishings</td>\n",
       "      <td>96.5300</td>\n",
       "      <td>7</td>\n",
       "      <td>0.00</td>\n",
       "      <td>40.5426</td>\n",
       "    </tr>\n",
       "    <tr>\n",
       "      <th>97</th>\n",
       "      <td>First Class</td>\n",
       "      <td>Consumer</td>\n",
       "      <td>United States</td>\n",
       "      <td>San Francisco</td>\n",
       "      <td>California</td>\n",
       "      <td>94122</td>\n",
       "      <td>West</td>\n",
       "      <td>Office Supplies</td>\n",
       "      <td>Binders</td>\n",
       "      <td>51.3120</td>\n",
       "      <td>3</td>\n",
       "      <td>0.20</td>\n",
       "      <td>17.9592</td>\n",
       "    </tr>\n",
       "    <tr>\n",
       "      <th>98</th>\n",
       "      <td>Standard Class</td>\n",
       "      <td>Corporate</td>\n",
       "      <td>United States</td>\n",
       "      <td>Saint Paul</td>\n",
       "      <td>Minnesota</td>\n",
       "      <td>55106</td>\n",
       "      <td>Central</td>\n",
       "      <td>Office Supplies</td>\n",
       "      <td>Appliances</td>\n",
       "      <td>77.8800</td>\n",
       "      <td>6</td>\n",
       "      <td>0.00</td>\n",
       "      <td>22.5852</td>\n",
       "    </tr>\n",
       "    <tr>\n",
       "      <th>99</th>\n",
       "      <td>Standard Class</td>\n",
       "      <td>Home Office</td>\n",
       "      <td>United States</td>\n",
       "      <td>Chicago</td>\n",
       "      <td>Illinois</td>\n",
       "      <td>60610</td>\n",
       "      <td>Central</td>\n",
       "      <td>Office Supplies</td>\n",
       "      <td>Paper</td>\n",
       "      <td>64.6240</td>\n",
       "      <td>7</td>\n",
       "      <td>0.20</td>\n",
       "      <td>22.6184</td>\n",
       "    </tr>\n",
       "  </tbody>\n",
       "</table>\n",
       "<p>100 rows × 13 columns</p>\n",
       "</div>"
      ],
      "text/plain": [
       "         Ship Mode      Segment        Country             City       State  \\\n",
       "0     Second Class     Consumer  United States        Henderson    Kentucky   \n",
       "1     Second Class     Consumer  United States        Henderson    Kentucky   \n",
       "2     Second Class    Corporate  United States      Los Angeles  California   \n",
       "3   Standard Class     Consumer  United States  Fort Lauderdale     Florida   \n",
       "4   Standard Class     Consumer  United States  Fort Lauderdale     Florida   \n",
       "..             ...          ...            ...              ...         ...   \n",
       "95  Standard Class  Home Office  United States         Portland      Oregon   \n",
       "96    Second Class  Home Office  United States    New York City    New York   \n",
       "97     First Class     Consumer  United States    San Francisco  California   \n",
       "98  Standard Class    Corporate  United States       Saint Paul   Minnesota   \n",
       "99  Standard Class  Home Office  United States          Chicago    Illinois   \n",
       "\n",
       "    Postal Code   Region         Category Sub-Category     Sales  Quantity  \\\n",
       "0         42420    South        Furniture    Bookcases  261.9600         2   \n",
       "1         42420    South        Furniture       Chairs  731.9400         3   \n",
       "2         90036     West  Office Supplies       Labels   14.6200         2   \n",
       "3         33311    South        Furniture       Tables  957.5775         5   \n",
       "4         33311    South  Office Supplies      Storage   22.3680         2   \n",
       "..          ...      ...              ...          ...       ...       ...   \n",
       "95        97206     West  Office Supplies      Binders    5.6820         1   \n",
       "96        10009     East        Furniture  Furnishings   96.5300         7   \n",
       "97        94122     West  Office Supplies      Binders   51.3120         3   \n",
       "98        55106  Central  Office Supplies   Appliances   77.8800         6   \n",
       "99        60610  Central  Office Supplies        Paper   64.6240         7   \n",
       "\n",
       "    Discount    Profit  \n",
       "0       0.00   41.9136  \n",
       "1       0.00  219.5820  \n",
       "2       0.00    6.8714  \n",
       "3       0.45 -383.0310  \n",
       "4       0.20    2.5164  \n",
       "..       ...       ...  \n",
       "95      0.70   -3.7880  \n",
       "96      0.00   40.5426  \n",
       "97      0.20   17.9592  \n",
       "98      0.00   22.5852  \n",
       "99      0.20   22.6184  \n",
       "\n",
       "[100 rows x 13 columns]"
      ]
     },
     "execution_count": 175,
     "metadata": {},
     "output_type": "execute_result"
    }
   ],
   "source": [
    "df = pd.read_csv(\"SampleSuperstore.csv\")\n",
    "df.head(100)"
   ]
  },
  {
   "cell_type": "code",
   "execution_count": 4,
   "metadata": {},
   "outputs": [
    {
     "name": "stdout",
     "output_type": "stream",
     "text": [
      "['Second Class' 'Standard Class' 'First Class' 'Same Day']\n",
      "531\n",
      "['Kentucky' 'California' 'Florida' 'North Carolina' 'Washington' 'Texas'\n",
      " 'Wisconsin' 'Utah' 'Nebraska' 'Pennsylvania' 'Illinois' 'Minnesota'\n",
      " 'Michigan' 'Delaware' 'Indiana' 'New York' 'Arizona' 'Virginia'\n",
      " 'Tennessee' 'Alabama' 'South Carolina' 'Oregon' 'Colorado' 'Iowa' 'Ohio'\n",
      " 'Missouri' 'Oklahoma' 'New Mexico' 'Louisiana' 'Connecticut' 'New Jersey'\n",
      " 'Massachusetts' 'Georgia' 'Nevada' 'Rhode Island' 'Mississippi'\n",
      " 'Arkansas' 'Montana' 'New Hampshire' 'Maryland' 'District of Columbia'\n",
      " 'Kansas' 'Vermont' 'Maine' 'South Dakota' 'Idaho' 'North Dakota'\n",
      " 'Wyoming' 'West Virginia']\n",
      "['Furniture' 'Office Supplies' 'Technology']\n"
     ]
    }
   ],
   "source": [
    "print(pd.unique(df['Ship Mode']))\n",
    "print(len(pd.unique(df.City)))\n",
    "print(pd.unique(df.State))\n",
    "print(pd.unique(df['Category']))"
   ]
  },
  {
   "cell_type": "code",
   "execution_count": 5,
   "metadata": {},
   "outputs": [
    {
     "data": {
      "image/png": "[encoded data removed]",
      "text/plain": [
       "<Figure size 432x288 with 1 Axes>"
      ]
     },
     "metadata": {},
     "output_type": "display_data"
    }
   ],
   "source": [
    "\n",
    "plt.pie(df['Segment'].value_counts(),labels = df.Segment.unique())\n",
    "plt.show()"
   ]
  },
  {
   "cell_type": "code",
   "execution_count": 6,
   "metadata": {},
   "outputs": [
    {
     "data": {
      "image/png": "[encoded data removed]",
      "text/plain": [
       "<Figure size 432x288 with 1 Axes>"
      ]
     },
     "metadata": {},
     "output_type": "display_data"
    }
   ],
   "source": [
    "Region = dict(df['Region'].value_counts())\n",
    "labels = list(Region.keys())\n",
    "values = list(Region.values())\n",
    "plt.pie(values, labels = labels)\n",
    "plt.show()"
   ]
  },
  {
   "cell_type": "code",
   "execution_count": 76,
   "metadata": {},
   "outputs": [
    {
     "data": {
      "text/plain": [
       "<AxesSubplot:xlabel='Segment'>"
      ]
     },
     "execution_count": 76,
     "metadata": {},
     "output_type": "execute_result"
    },
    {
     "data": {
      "image/png": "[encoded data removed]",
      "text/plain": [
       "<Figure size 432x288 with 1 Axes>"
      ]
     },
     "metadata": {
      "needs_background": "light"
     },
     "output_type": "display_data"
    }
   ],
   "source": [
    "consumer_sales_total = round(df[df['Segment'] == \"Consumer\"]['Sales'].astype(float).sum())\n",
    "corporate_sales_total = round(df[df['Segment'] == \"Corporate\"]['Sales'].astype(float).sum())\n",
    "home_sales_total = round(df[df['Segment'] == \"Home Office\"]['Sales'].astype(float).sum())\n",
    "\n",
    "consumer_profit_total = round(df[df['Segment'] == \"Consumer\"]['Profit'].astype(float).sum())\n",
    "corporate_profit_total = round(df[df['Segment'] == \"Corporate\"]['Profit'].astype(float).sum())\n",
    "home_profit_total = round(df[df['Segment'] == \"Home Office\"]['Profit'].astype(float).sum())\n",
    "\n",
    "sales_df = pd.DataFrame({'Segment':[x for x in df.Segment.unique()],'Sales':[consumer_sales_total,\n",
    "corporate_sales_total,home_sales_total]})\n",
    "\n",
    "profit_df = pd.DataFrame({'Segment':[x for x in df.Segment.unique()],'Profit':[consumer_profit_total,\n",
    "corporate_profit_total,home_profit_total]})\n",
    "\n",
    "ax = sales_df.plot(x = \"Segment\" , y = \"Sales\", kind = \"bar\")\n",
    "profit_df.plot(x = \"Segment\", y = \"Profit\", kind = \"bar\", ax = ax, color = 'red')\n",
    "\n",
    "\n",
    "\n",
    "\n"
   ]
  },
  {
   "cell_type": "code",
   "execution_count": 249,
   "metadata": {},
   "outputs": [
    {
     "data": {
      "image/png": "[encoded data removed]",
      "text/plain": [
       "<Figure size 432x288 with 2 Axes>"
      ]
     },
     "metadata": {
      "needs_background": "light"
     },
     "output_type": "display_data"
    }
   ],
   "source": [
    "corr = df[['Quantity','Profit','Sales']].corr()\n",
    "dataplot = sns.heatmap(corr, cmap= 'coolwarm', annot = True)\n"
   ]
  },
  {
   "cell_type": "code",
   "execution_count": 183,
   "metadata": {},
   "outputs": [
    {
     "data": {
      "text/plain": [
       "<AxesSubplot:xlabel='Region'>"
      ]
     },
     "execution_count": 183,
     "metadata": {},
     "output_type": "execute_result"
    },
    {
     "data": {
      "image/png": "[encoded data removed]",
      "text/plain": [
       "<Figure size 432x288 with 1 Axes>"
      ]
     },
     "metadata": {
      "needs_background": "light"
     },
     "output_type": "display_data"
    }
   ],
   "source": [
    "east_states = df[df[\"Region\"] == 'East'][['Profit','Sales']].sum().to_dict()\n",
    "west_states = df[df[\"Region\"] == 'West'][['Profit','Sales']].sum().to_dict()\n",
    "central_states = df[df[\"Region\"] == 'Central'][['Profit','Sales']].sum().to_dict()\n",
    "south_states = df[df[\"Region\"] == 'South'][['Profit','Sales']].sum().to_dict()\n",
    "\n",
    "\n",
    "sales = [east_states['Sales'],west_states['Sales'],central_states['Sales'],south_states['Sales']]\n",
    "profit = [east_states['Profit'],west_states['Profit'],central_states['Profit'],south_states['Profit']]\n",
    "region = ['East','West','Central','South']\n",
    "\n",
    "bystate = pd.DataFrame({'Region':region,'Sales':sales,'Profit':profit})\n",
    "bystate.plot(kind = 'bar', x = 'Region')\n"
   ]
  },
  {
   "cell_type": "code",
   "execution_count": 247,
   "metadata": {},
   "outputs": [
    {
     "name": "stderr",
     "output_type": "stream",
     "text": [
      "C:\\Users\\User\\AppData\\Local\\Temp\\ipykernel_32816\\2506295064.py:10: FutureWarning: Indexing with multiple keys (implicitly converted to a tuple of keys) will be deprecated, use a list instead.\n",
      "  furniture_cpm = pd.DataFrame(furniture.groupby('Sub-Category')['Profit','Sales'].sum())\n",
      "C:\\Users\\User\\AppData\\Local\\Temp\\ipykernel_32816\\2506295064.py:11: FutureWarning: Indexing with multiple keys (implicitly converted to a tuple of keys) will be deprecated, use a list instead.\n",
      "  office_cpm = pd.DataFrame(office.groupby('Sub-Category')['Profit','Sales'].sum())\n",
      "C:\\Users\\User\\AppData\\Local\\Temp\\ipykernel_32816\\2506295064.py:12: FutureWarning: Indexing with multiple keys (implicitly converted to a tuple of keys) will be deprecated, use a list instead.\n",
      "  tech_cpm = pd.DataFrame(tech.groupby('Sub-Category')['Profit','Sales'].sum())\n"
     ]
    },
    {
     "data": {
      "text/plain": [
       "<AxesSubplot:ylabel='Technology'>"
      ]
     },
     "execution_count": 247,
     "metadata": {},
     "output_type": "execute_result"
    },
    {
     "data": {
      "image/png": "[encoded data removed]",
      "text/plain": [
       "<Figure size 432x288 with 1 Axes>"
      ]
     },
     "metadata": {
      "needs_background": "light"
     },
     "output_type": "display_data"
    },
    {
     "data": {
      "image/png": "[encoded data removed]",
      "text/plain": [
       "<Figure size 432x288 with 1 Axes>"
      ]
     },
     "metadata": {
      "needs_background": "light"
     },
     "output_type": "display_data"
    },
    {
     "data": {
      "image/png": "[encoded data removed]",
      "text/plain": [
       "<Figure size 432x288 with 1 Axes>"
      ]
     },
     "metadata": {
      "needs_background": "light"
     },
     "output_type": "display_data"
    }
   ],
   "source": [
    "category = df['Category'].unique()\n",
    "furniture = df[df[\"Category\"] == 'Furniture']\n",
    "office = df[df[\"Category\"] == 'Office Supplies']\n",
    "tech = df[df[\"Category\"] == 'Technology']\n",
    "\n",
    "ps = ['Profit','Sales']\n",
    "office['Sub-Category'].unique()\n",
    "\n",
    "\n",
    "furniture_cpm = pd.DataFrame(furniture.groupby('Sub-Category')['Profit','Sales'].sum())\n",
    "office_cpm = pd.DataFrame(office.groupby('Sub-Category')['Profit','Sales'].sum())\n",
    "tech_cpm = pd.DataFrame(tech.groupby('Sub-Category')['Profit','Sales'].sum())\n",
    "\n",
    "furniture_cpm.plot(kind = \"barh\", xlabel=\"Furniture\")\n",
    "office_cpm.plot(kind = \"barh\",xlabel=\"Office\")\n",
    "tech_cpm.plot(kind = \"barh\",xlabel=\"Technology\")\n",
    "\n",
    "\n"
   ]
  }
 ],
 "metadata": {
  "kernelspec": {
   "display_name": "Python 3",
   "language": "python",
   "name": "python3"
  },
  "language_info": {
   "codemirror_mode": {
    "name": "ipython",
    "version": 3
   },
   "file_extension": ".py",
   "mimetype": "text/x-python",
   "name": "python",
   "nbconvert_exporter": "python",
   "pygments_lexer": "ipython3",
   "version": "3.9.13"
  },
  "orig_nbformat": 4,
  "vscode": {
   "interpreter": {
    "hash": "23b4a3e8622309bcc6db3d5cc6eb73d60ab98d9ec23bad6a26b709981ccb403a"
   }
  }
 },
 "nbformat": 4,
 "nbformat_minor": 2
}
